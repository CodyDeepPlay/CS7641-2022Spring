{
 "cells": [
  {
   "cell_type": "code",
   "execution_count": 10,
   "metadata": {
    "colab": {
     "base_uri": "https://localhost:8080/"
    },
    "executionInfo": {
     "elapsed": 3583,
     "status": "ok",
     "timestamp": 1647919915908,
     "user": {
      "displayName": "CodyDeepPlay",
      "photoUrl": "https://lh3.googleusercontent.com/a-/AOh14Gjo5lc6VinPZ23QRrG6Y5_NhGa1sBOwFTz7yZgoeA=s64",
      "userId": "13117008927422236343"
     },
     "user_tz": 300
    },
    "id": "9tbSQIHgMsdd",
    "outputId": "cca791a4-9606-495a-fa96-63e13c7f7723"
   },
   "outputs": [],
   "source": [
    "\n",
    "import os\n",
    "import matplotlib.pyplot as plt\n",
    "import matplotlib.cm as cm\n",
    "import gzip\n",
    "import numpy as np\n",
    "import pandas as pd\n",
    "\n",
    "# classifiers and performance metrics\n",
    "from sklearn import datasets, svm, metrics\n",
    "from sklearn.model_selection import train_test_split\n",
    "from sklearn.model_selection import GridSearchCV\n",
    "from sklearn.metrics import plot_confusion_matrix\n",
    "from sklearn.preprocessing import StandardScaler\n",
    "from sklearn.cluster import KMeans\n",
    "from sklearn.metrics import silhouette_samples, silhouette_score\n",
    "from sklearn.decomposition import PCA\n",
    "from sklearn.mixture import GaussianMixture\n",
    "from sklearn.neural_network import MLPClassifier\n",
    "from sklearn.decomposition import FastICA\n",
    "from sklearn.ensemble import GradientBoostingClassifier\n",
    "from sklearn.ensemble import RandomForestClassifier"
   ]
  },
  {
   "cell_type": "code",
   "execution_count": 11,
   "metadata": {
    "colab": {
     "base_uri": "https://localhost:8080/",
     "height": 316
    },
    "executionInfo": {
     "elapsed": 943,
     "status": "ok",
     "timestamp": 1647920389707,
     "user": {
      "displayName": "CodyDeepPlay",
      "photoUrl": "https://lh3.googleusercontent.com/a-/AOh14Gjo5lc6VinPZ23QRrG6Y5_NhGa1sBOwFTz7yZgoeA=s64",
      "userId": "13117008927422236343"
     },
     "user_tz": 300
    },
    "id": "xx0ZpEMPLl-f",
    "outputId": "c1a71010-6b87-4591-8804-80b2875feaf6"
   },
   "outputs": [
    {
     "name": "stdout",
     "output_type": "stream",
     "text": [
      "Total number of images selected:\n",
      "10000\n"
     ]
    },
    {
     "data": {
      "image/png": "[encoded data removed]",
      "text/plain": [
       "<Figure size 432x288 with 1 Axes>"
      ]
     },
     "metadata": {
      "needs_background": "light"
     },
     "output_type": "display_data"
    }
   ],
   "source": [
    "\n",
    "###############################################################################\n",
    "###        MINIST datasets, hand writing digits images               ##########\n",
    "###############################################################################\n",
    "### downloaded from  http://yann.lecun.com/exdb/mnist/\n",
    "### the training dataset contain 60,000 examples\n",
    "\n",
    "\n",
    "image_size = 28\n",
    "num_images = 60000\n",
    "\n",
    "\n",
    "# load each training examples, an individual images\n",
    "f = gzip.open('data/train-images-idx3-ubyte.gz','r')\n",
    "f.read(16)\n",
    "buf = f.read(image_size * image_size * num_images)\n",
    "data = np.frombuffer(buf, dtype=np.uint8).astype(np.float32)\n",
    "digit_img = data.reshape(num_images, image_size, image_size, 1)\n",
    "\n",
    "# load the related training labels\n",
    "f = gzip.open('data/train-labels-idx1-ubyte.gz','r')\n",
    "labels = []\n",
    "f.read(8)\n",
    "for i in range(0,num_images):   \n",
    "    buf = f.read(1)\n",
    "    one_label = np.frombuffer(buf, dtype=np.uint8).astype(np.int64)[0]\n",
    "    labels.append(one_label)\n",
    "    \n",
    "    \n",
    "# select 16000 examples to conduct our experiment in this assignment\n",
    "selected_length = 10000\n",
    "img_data   = digit_img[0:selected_length].reshape(selected_length, image_size*image_size)\n",
    "img_labels = labels[0:selected_length]\n",
    "\n",
    "print('Total number of images selected:')\n",
    "print(len(img_data))\n",
    "\n",
    "\n",
    "# investigate the number of classes in each case.\n",
    "num_instances = []  # store the number of instances for each class\n",
    "total_class = list(set(img_labels)) # figure out how many classes are there in the training data\n",
    "img_labels_array = np.asarray(img_labels)\n",
    "for a_class in total_class:\n",
    "    num_instances.append( len(np.where(img_labels_array == a_class)[0]) ) \n",
    "\n",
    "# plot a figure to show the number of instances in each class in the training data\n",
    "#plt.figure()\n",
    "fig, ax = plt.subplots()\n",
    "p1 = ax.bar(total_class, num_instances)\n",
    "plt.ylabel('Number of instances')\n",
    "plt.title('Data distribution across different classes in MINIST dataset')\n",
    "#ax.bar_label(p1, padding=2)\n",
    "ax.set_xticks(total_class)\n",
    "\n",
    "\n",
    "# normalize the data\n",
    "scalar      = StandardScaler()\n",
    "scaled_data = scalar.fit_transform(img_data)\n",
    "mydata = scaled_data \n",
    "mylabels = img_labels;"
   ]
  },
  {
   "cell_type": "markdown",
   "metadata": {
    "id": "8nDsZtRVsKdm"
   },
   "source": [
    "## Define helper functions\n",
    "Will be used later for plotting"
   ]
  },
  {
   "cell_type": "code",
   "execution_count": 12,
   "metadata": {
    "executionInfo": {
     "elapsed": 925,
     "status": "ok",
     "timestamp": 1647921306787,
     "user": {
      "displayName": "CodyDeepPlay",
      "photoUrl": "https://lh3.googleusercontent.com/a-/AOh14Gjo5lc6VinPZ23QRrG6Y5_NhGa1sBOwFTz7yZgoeA=s64",
      "userId": "13117008927422236343"
     },
     "user_tz": 300
    },
    "id": "XRz7ZzUYLwWA"
   },
   "outputs": [],
   "source": [
    "\n",
    "# some helper functions will be used later to plot the figures.\n",
    "\n",
    "# A useful post to read about Silhouette Coefficient Analysis can be found here: \n",
    "# https://towardsdatascience.com/k-means-clustering-how-it-works-finding-the-optimum-number-of-clusters-in-the-data-13d18739255c\n",
    "\n",
    "def silhouette_avg_plot(mydata, max_cluster, model_type = 'EM'):\n",
    "    \n",
    "    '''\n",
    "    Generate figures for average silhouette score.\n",
    "    model_type, 'EM' or 'kmeans'\n",
    "    '''\n",
    "    silhouette_scores = [] # collect the average silhouette score for each given hyperparameter of cluster\n",
    "    distortions = []       # used to plot the distortion curve and find the elbow\n",
    "    \n",
    "    if len(max_cluster) ==2:\n",
    "          start = max_cluster[0]; end = max_cluster[1];\n",
    "    else: start = 0; end = max_cluster;\n",
    "\n",
    "    if model_type == 'EM':\n",
    "\n",
    "        for cluser in range(start,end):\n",
    "\n",
    "          print('woring on clustering: ', cluser)\n",
    "          EM_model = GaussianMixture(n_components=cluser,random_state=0)\n",
    "          EM_model.fit(mydata)\n",
    "          cluster_labels = EM_model.predict(mydata)\n",
    "          \n",
    "          # Compute the average scores for each cluster\n",
    "          silhouette_avg = silhouette_score(mydata, cluster_labels)\n",
    "          silhouette_scores.append(silhouette_avg)  # track the average silhouette_scores\n",
    "\n",
    "        plt.figure()\n",
    "        plt.plot(np.arange(2,max_cluster), silhouette_scores, '--.')\n",
    "        plt.ylabel('silhouette_avg score')\n",
    "        plt.xlabel('Number of clusters')\n",
    "        plt.title('Silhouette avgerage score over iterations')\n",
    "          \n",
    "    elif model_type == 'kmeans':  \n",
    "        #for cluser in range(2,max_cluster):   \n",
    "        silhouette_scores = [] # collect the average silhouette score for each given hyperparameter of cluster\n",
    "        distortions = []       # used to plot the distortion curve and find the elbow\n",
    "\n",
    "        for cluser in range(start,end):\n",
    "            print('woring on clustering: ', cluser)\n",
    "            kmeans_model = KMeans(n_clusters=cluser, random_state=0)\n",
    "            kmeans_model.fit(mydata)\n",
    "            cluster_labels = kmeans_model.labels_\n",
    "\n",
    "            # Compute the average scores for each cluster\n",
    "            silhouette_avg = silhouette_score(mydata, cluster_labels)\n",
    "            silhouette_scores.append(silhouette_avg)  # track the average silhouette_scores\n",
    "\n",
    "            distortions.append(kmeans_model.inertia_) # track the distortion\n",
    "\n",
    "        plt.figure()\n",
    "        plt.plot(np.arange(start,end), silhouette_scores, '--.')\n",
    "        plt.ylabel('silhouette_avg score')\n",
    "        plt.xlabel('Number of clusters')\n",
    "        plt.title('Silhouette avgerage score over iterations')\n",
    "\n",
    "        plt.figure()\n",
    "        plt.plot(np.arange(start,end), distortions, '--.')\n",
    "        plt.ylabel('Distortion')\n",
    "        plt.xlabel('Number of clusters')\n",
    "        plt.title('Distortion over iterations')\n",
    "\n",
    "        \n",
    "        \n",
    "        \n",
    "def silhouette_and_data_plot(cluser, mydata,  attributes=None, max_cluster=10,\n",
    "                             model_type='kmeans', data_type='normal',\n",
    "                             xlim=[2, 14],ylim=[0.0, 1.4], zlim=[0.0, 200]):\n",
    "    \n",
    "    '''\n",
    "    Generate figures for silhouette scores for all samples.\n",
    "    \n",
    "    Inputs:\n",
    "    model_type,\n",
    "        what type of clustering model to use, 'kmeans' or 'EM'\n",
    "    data_type,\n",
    "        what type of data used,\n",
    "        'normal':  normal dataset without dimensionality reduction.\n",
    "        'reduced':  dataset with dimensionality reduction.\n",
    "    '''\n",
    "    \n",
    "    X = mydata\n",
    "    \n",
    "    if model_type=='kmeans':\n",
    "        kmeans_model = KMeans(n_clusters=cluser, random_state=0)\n",
    "        kmeans_model.fit(X)\n",
    "        cluster_labels = kmeans_model.labels_\n",
    "        \n",
    "    elif model_type=='EM':\n",
    "        EM_model = GaussianMixture(n_components=cluser,random_state=0)\n",
    "        EM_model.fit(mydata)\n",
    "        cluster_labels = EM_model.predict(mydata)    \n",
    "\n",
    "    # Compute the average scores for each cluster\n",
    "    silhouette_avg = silhouette_score(X, cluster_labels)\n",
    "    # Compute the silhouette scores for each sample\n",
    "    sample_silhouette_values = silhouette_samples(X, cluster_labels)\n",
    "\n",
    "    ###### Reorganize the silhouette score for each cluster and sort them\n",
    "    ###### Will use later to plot the figure for silhouette score for each sample\n",
    "    # this section of code is modified from this post\n",
    "    # https://towardsdatascience.com/k-means-clustering-how-it-works-finding-the-optimum-number-of-clusters-in-the-data-13d18739255c\n",
    "\n",
    "    #################################################\n",
    "    # Create a subplot with 1 row and 2 columns\n",
    "\n",
    "    fig = plt.figure()\n",
    "    ax1 = fig.add_subplot()\n",
    "\n",
    "    #fig.set_size_inches(18, 7)\n",
    "    ##############################################################################\n",
    "    #########   first subplot, silhouette scores for all samples    ##############\n",
    "    ##############################################################################\n",
    "    y_lower = 10\n",
    "    for i in range(cluser):\n",
    "        # for each cluster, aggregate the silhouette scores for samples and sort them\n",
    "        ith_cluster_silhouette_values = sample_silhouette_values[cluster_labels == i]\n",
    "        ith_cluster_silhouette_values.sort()\n",
    "\n",
    "        size_cluster_i = ith_cluster_silhouette_values.shape[0]\n",
    "        y_upper = y_lower + size_cluster_i\n",
    "\n",
    "        color = cm.nipy_spectral(float(i) / max_cluster)\n",
    "        ax1.fill_betweenx(np.arange(y_lower, y_upper),\n",
    "                          0, ith_cluster_silhouette_values,\n",
    "                          facecolor=color, edgecolor=color, alpha=0.7)\n",
    "\n",
    "        # Label the silhouette plots with their cluster numbers at the middle\n",
    "        ax1.text(-0.05, y_lower + 0.5 * size_cluster_i, str(i))\n",
    "\n",
    "        # Compute the new y_lower for next plot\n",
    "        y_lower = y_upper + 10  # 10 for the 0 samples\n",
    "\n",
    "    ax1.set_title(\"The silhouette plot for the various clusters.\")\n",
    "    ax1.set_xlabel(\"The silhouette coefficient values\")\n",
    "    ax1.set_ylabel(\"Cluster label\")\n",
    "\n",
    "    # The vertical line for average silhouette score of all the values\n",
    "    ax1.axvline(x=silhouette_avg, color=\"red\", linestyle=\"--\")   \n",
    "    ax1.set_yticks([])  # Clear the yaxis labels / ticks\n",
    "\n",
    "\n",
    "    ##############################################################################\n",
    "    #########   second subplot, clusters with first two or three features    ##############\n",
    "    ##############################################################################\n",
    "\n",
    "    fig = plt.figure()\n",
    "    ax2 = fig.add_subplot(projection='3d')\n",
    "    \n",
    "    if data_type =='normal':\n",
    "        a_idx=0; b_idx=1; c_idx=6;\n",
    "    elif data_type =='reduced':\n",
    "        a_idx=0; b_idx=1; c_idx=2;\n",
    "\n",
    "    colors = cm.nipy_spectral(cluster_labels.astype(float) / cluser)\n",
    "    ax2.scatter(X[:, a_idx], X[:, b_idx], X[:, c_idx],  marker='.', s=30, lw=0, alpha=0.7,\n",
    "                c=colors, edgecolor='k')\n",
    "\n",
    "    ## Labeling the clusters\n",
    "    #centers = kmeans_model.cluster_centers_\n",
    "    ## Draw white circles at cluster centers\n",
    "    #ax2.scatter(centers[:, a_idx], centers[:, b_idx], centers[:, c_idx], marker='o',\n",
    "    #            c=\"white\", alpha=1, s=200, edgecolor='k')\n",
    "\n",
    "    #for i, c in enumerate(centers):\n",
    "    #    ax2.scatter(c[a_idx], c[b_idx], c[c_idx], marker='$%d$' % i, alpha=1,\n",
    "    #                s=50, edgecolor='k')\n",
    "\n",
    "    ax2.set_title(\"The visualization of the clustered data.\" \"with n_clusters = %d\" % cluser)\n",
    "    if data_type =='normal':\n",
    "        ax2.set_xlabel(attributes[a_idx])\n",
    "        ax2.set_ylabel(attributes[b_idx])\n",
    "        ax2.set_zlabel(attributes[c_idx])\n",
    "\n",
    "    if data_type =='reduced':\n",
    "        ax2.set_xlabel('1st component')\n",
    "        ax2.set_ylabel('2nd component')\n",
    "        ax2.set_zlabel('3rd component')\n",
    "        \n",
    "    if len(xlim)==2: ax2.set_xlim(xlim)\n",
    "    if len(ylim)==2: ax2.set_ylim(ylim)\n",
    "    if len(zlim)==2: ax2.set_zlim(zlim)\n",
    "      \n",
    "        \n",
    "def bic_plot(mydata, max_cluster):        \n",
    "    '''\n",
    "    At this moment, BIC plot is only work for EM clustering model here\n",
    "    \n",
    "    Code in this section was adapted from this post.\n",
    "    https://towardsdatascience.com/gaussian-mixture-model-clusterization-how-to-select-the-number-of-components-clusters-553bef45f6e4\n",
    "    '''\n",
    "\n",
    "    # Bayesin Information Criterion score when using clustering from 2 to 10\n",
    "    X = mydata\n",
    "    ncluster = np.arange(2, max_cluster+1)\n",
    "    bics=[]; bics_err=[];\n",
    "\n",
    "    for acluster in ncluster:\n",
    "        tmp_bic=[]\n",
    "        # also select some random state to recompute the model when given a number of clusters    \n",
    "        for randomstate in range(1,100, 5):\n",
    "            EM_model=GaussianMixture(acluster, random_state=randomstate).fit(X)\n",
    "            tmp_bic.append(EM_model.bic(X))\n",
    "        val=np.mean(tmp_bic); err=np.std(tmp_bic);\n",
    "        bics.append(val); bics_err.append(err);   # store the computation results for later plotting use.\n",
    "\n",
    "\n",
    "    # plot the BIC score as the number of clusters\n",
    "    fig = plt.figure()\n",
    "    ax1 = fig.add_subplot()\n",
    "    ax1.errorbar(ncluster, bics, yerr=bics_err, label='BIC')\n",
    "    ax1.set_title(\"BIC Scores\")\n",
    "    ax1.set_xticks(ncluster)\n",
    "    ax1.set_xlabel(\"Number of Clusters\")\n",
    "    ax1.set_ylabel(\"BIC\")\n",
    "\n",
    "    # plot the gradient of the BIC score\n",
    "    fig = plt.figure()\n",
    "    ax2 = fig.add_subplot()\n",
    "    ax2.errorbar(ncluster, np.gradient(bics), yerr=bics_err, label='BIC')\n",
    "    ax2.set_title(\"Gradient of BIC Scores\")\n",
    "    ax2.set_xticks(ncluster)\n",
    "    ax2.set_xlabel(\"Number of Clusters\")\n",
    "    ax2.set_ylabel(\"grad(BIC)\")\n",
    "\n",
    "\n"
   ]
  },
  {
   "cell_type": "markdown",
   "metadata": {
    "id": "-Sg1ZwFctGGn"
   },
   "source": [
    "## Using raw data to run clustering\n",
    "K-means clustering and Expectation Maximization clustering on the datasets."
   ]
  },
  {
   "cell_type": "code",
   "execution_count": 16,
   "metadata": {
    "colab": {
     "base_uri": "https://localhost:8080/",
     "height": 747
    },
    "executionInfo": {
     "elapsed": 164339,
     "status": "ok",
     "timestamp": 1647921473849,
     "user": {
      "displayName": "CodyDeepPlay",
      "photoUrl": "https://lh3.googleusercontent.com/a-/AOh14Gjo5lc6VinPZ23QRrG6Y5_NhGa1sBOwFTz7yZgoeA=s64",
      "userId": "13117008927422236343"
     },
     "user_tz": 300
    },
    "id": "lxF4FE8OtKc9",
    "outputId": "e9c2af57-9ef0-46df-98c2-b8c071bc9d83"
   },
   "outputs": [
    {
     "name": "stdout",
     "output_type": "stream",
     "text": [
      "woring on clustering:  5\n",
      "woring on clustering:  6\n",
      "woring on clustering:  7\n",
      "woring on clustering:  8\n",
      "woring on clustering:  9\n",
      "woring on clustering:  10\n",
      "woring on clustering:  11\n",
      "woring on clustering:  12\n",
      "woring on clustering:  13\n",
      "woring on clustering:  14\n"
     ]
    },
    {
     "data": {
      "image/png": "[encoded data removed]",
      "text/plain": [
       "<Figure size 432x288 with 1 Axes>"
      ]
     },
     "metadata": {
      "needs_background": "light"
     },
     "output_type": "display_data"
    },
    {
     "data": {
      "image/png": "[encoded data removed]",
      "text/plain": [
       "<Figure size 432x288 with 1 Axes>"
      ]
     },
     "metadata": {
      "needs_background": "light"
     },
     "output_type": "display_data"
    }
   ],
   "source": [
    "# Average silhouette score when using clustering from 2 to 10\n",
    "max_cluster = [5, 15];\n",
    "model_type = 'kmeans'\n",
    "silhouette_avg_plot(mydata, max_cluster, model_type = model_type)"
   ]
  },
  {
   "cell_type": "markdown",
   "metadata": {
    "id": "6Z4nu7qQt8K1"
   },
   "source": [
    "#### Visualize the silhouette score and data after clustering"
   ]
  },
  {
   "cell_type": "code",
   "execution_count": null,
   "metadata": {
    "id": "lN5sPPaRt4y-"
   },
   "outputs": [],
   "source": [
    "cluser = 10\n",
    "silhouette_and_data_plot(cluser, mydata, model_type='kmeans', \n",
    "                         xlim=[2, 14], ylim=[0.0, 1.4], zlim=[0.0, 200])"
   ]
  },
  {
   "cell_type": "markdown",
   "metadata": {
    "id": "lDOokMiruNb2"
   },
   "source": [
    "## Expectation maximization\n",
    "\n",
    "#### Average silhouette score"
   ]
  },
  {
   "cell_type": "code",
   "execution_count": null,
   "metadata": {
    "id": "edKrDHvAuR_d"
   },
   "outputs": [],
   "source": [
    "# Average silhouette score when using clustering from 2 to 10\n",
    "max_cluster = 10;\n",
    "model_type  = 'EM'\n",
    "silhouette_avg_plot(mydata, max_cluster, model_type = model_type)\n",
    "\n",
    "# Bayesin Information Criterion score when using clustering from 2 to 10\n",
    "bic_plot(mydata, max_cluster)\n",
    "\n",
    "# plot the silhouette score over different clusters and visualize the data.\n",
    "for cluser in range(2,3+1):\n",
    "    silhouette_and_data_plot(cluser, mydata, model_type='EM', xlim=[2, 14], ylim=[0.0, 1.4], zlim=[0.0, 200])"
   ]
  }
 ],
 "metadata": {
  "colab": {
   "authorship_tag": "ABX9TyPxdTlzhqFGcGb/N5lOM4iB",
   "collapsed_sections": [],
   "mount_file_id": "1zew4YThdXhz_IvFjhSm2V-L3vws-3j51",
   "name": "Assignment3.ipynb",
   "provenance": [],
   "toc_visible": true
  },
  "kernelspec": {
   "display_name": "Python 3 (ipykernel)",
   "language": "python",
   "name": "python3"
  },
  "language_info": {
   "codemirror_mode": {
    "name": "ipython",
    "version": 3
   },
   "file_extension": ".py",
   "mimetype": "text/x-python",
   "name": "python",
   "nbconvert_exporter": "python",
   "pygments_lexer": "ipython3",
   "version": "3.9.6"
  }
 },
 "nbformat": 4,
 "nbformat_minor": 1
}
